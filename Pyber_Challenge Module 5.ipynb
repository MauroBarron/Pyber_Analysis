{
 "cells": [
  {
   "cell_type": "code",
   "execution_count": 84,
   "metadata": {},
   "outputs": [],
   "source": [
    "##### Pyber Challenge. Module 5.\n",
    "\n",
    "### Challenge Questions\n",
    "## ? Is there a correlation between average fare and the total rides for city types?\n",
    "    # Plot a regression line for the individual scatter plots\n",
    "## ? Is there any statistical significance between different city types\n",
    "    # for each box and whisker plot?   \n",
    "    \n",
    "### Challenge Objectives:\n",
    "##  Use Pandas DF functions: groupby(), pivot(), resample(), reset_index()\n",
    "##  Use Pandas methods and attributes on a DataFrame or Series\n",
    "##  Create a new DF from multiple groupby() Series\n",
    "##  Format columns of a DataFrame.\n",
    "##  Create a multiple-line graph.\n",
    "##  Annotate and apply styling to the chart\n",
    "\n",
    "### Code Outline\n",
    "\n",
    "## Create a PyBer Summary Dataframe\n",
    "# Prep environment and dependicies\n",
    "# Get and read CSV data into DFs\n",
    "# Inspect Data.  NULLS and proper Datatypes\n",
    "# Merge into single DF\n",
    "# Create DFs by City types - three categories\n",
    "# Summarize Total Rides Per City Type\n",
    "# Summarize Total Drivers Per City Type\n",
    "# Summarize Total Fares Per City Type\n",
    "# Calculate Average Fare per Ride\n",
    "# Summarize Total Rides Per City Type\n",
    "# Create Summmary DataFrame "
   ]
  },
  {
   "cell_type": "code",
   "execution_count": null,
   "metadata": {},
   "outputs": [],
   "source": []
  },
  {
   "cell_type": "code",
   "execution_count": 85,
   "metadata": {},
   "outputs": [],
   "source": [
    "##Start with the magic inline command\n",
    "%matplotlib inline"
   ]
  },
  {
   "cell_type": "code",
   "execution_count": 86,
   "metadata": {},
   "outputs": [],
   "source": [
    "# Dependencies\n",
    "import matplotlib as mpl  # calls the greater matplotlib library\n",
    "import matplotlib.pyplot as plt  # matplotlib pyplot graphics library\n",
    "import pandas as pd # the pandas\n",
    "import numpy as np # NumPy\n",
    "import scipy.stats as sts # SciPy\n",
    "import matplotlib as mpl  # call the matplotlib library"
   ]
  },
  {
   "cell_type": "code",
   "execution_count": 87,
   "metadata": {},
   "outputs": [],
   "source": [
    "# Load the files\n",
    "city_data_to_load = \"Resources/city_data.csv\"\n",
    "ride_data_to_load = \"Resources/ride_data.csv\""
   ]
  },
  {
   "cell_type": "code",
   "execution_count": 88,
   "metadata": {},
   "outputs": [
    {
     "data": {
      "text/html": [
       "<div>\n",
       "<style scoped>\n",
       "    .dataframe tbody tr th:only-of-type {\n",
       "        vertical-align: middle;\n",
       "    }\n",
       "\n",
       "    .dataframe tbody tr th {\n",
       "        vertical-align: top;\n",
       "    }\n",
       "\n",
       "    .dataframe thead th {\n",
       "        text-align: right;\n",
       "    }\n",
       "</style>\n",
       "<table border=\"1\" class=\"dataframe\">\n",
       "  <thead>\n",
       "    <tr style=\"text-align: right;\">\n",
       "      <th></th>\n",
       "      <th>city</th>\n",
       "      <th>driver_count</th>\n",
       "      <th>type</th>\n",
       "    </tr>\n",
       "  </thead>\n",
       "  <tbody>\n",
       "    <tr>\n",
       "      <th>0</th>\n",
       "      <td>Richardfort</td>\n",
       "      <td>38</td>\n",
       "      <td>Urban</td>\n",
       "    </tr>\n",
       "    <tr>\n",
       "      <th>1</th>\n",
       "      <td>Williamsstad</td>\n",
       "      <td>59</td>\n",
       "      <td>Urban</td>\n",
       "    </tr>\n",
       "    <tr>\n",
       "      <th>2</th>\n",
       "      <td>Port Angela</td>\n",
       "      <td>67</td>\n",
       "      <td>Urban</td>\n",
       "    </tr>\n",
       "    <tr>\n",
       "      <th>3</th>\n",
       "      <td>Rodneyfort</td>\n",
       "      <td>34</td>\n",
       "      <td>Urban</td>\n",
       "    </tr>\n",
       "    <tr>\n",
       "      <th>4</th>\n",
       "      <td>West Robert</td>\n",
       "      <td>39</td>\n",
       "      <td>Urban</td>\n",
       "    </tr>\n",
       "  </tbody>\n",
       "</table>\n",
       "</div>"
      ],
      "text/plain": [
       "           city  driver_count   type\n",
       "0   Richardfort            38  Urban\n",
       "1  Williamsstad            59  Urban\n",
       "2   Port Angela            67  Urban\n",
       "3    Rodneyfort            34  Urban\n",
       "4   West Robert            39  Urban"
      ]
     },
     "execution_count": 88,
     "metadata": {},
     "output_type": "execute_result"
    }
   ],
   "source": [
    "# Load the city data into a Dataframe\n",
    "city_data_df = pd.read_csv(city_data_to_load)\n",
    "city_data_df.head(5)"
   ]
  },
  {
   "cell_type": "code",
   "execution_count": 89,
   "metadata": {},
   "outputs": [
    {
     "data": {
      "text/html": [
       "<div>\n",
       "<style scoped>\n",
       "    .dataframe tbody tr th:only-of-type {\n",
       "        vertical-align: middle;\n",
       "    }\n",
       "\n",
       "    .dataframe tbody tr th {\n",
       "        vertical-align: top;\n",
       "    }\n",
       "\n",
       "    .dataframe thead th {\n",
       "        text-align: right;\n",
       "    }\n",
       "</style>\n",
       "<table border=\"1\" class=\"dataframe\">\n",
       "  <thead>\n",
       "    <tr style=\"text-align: right;\">\n",
       "      <th></th>\n",
       "      <th>city</th>\n",
       "      <th>date</th>\n",
       "      <th>fare</th>\n",
       "      <th>ride_id</th>\n",
       "    </tr>\n",
       "  </thead>\n",
       "  <tbody>\n",
       "    <tr>\n",
       "      <th>2370</th>\n",
       "      <td>Michaelberg</td>\n",
       "      <td>2019-04-29 17:04:39</td>\n",
       "      <td>13.38</td>\n",
       "      <td>8550365057598</td>\n",
       "    </tr>\n",
       "    <tr>\n",
       "      <th>2371</th>\n",
       "      <td>Lake Latoyabury</td>\n",
       "      <td>2019-01-30 00:05:47</td>\n",
       "      <td>20.76</td>\n",
       "      <td>9018727594352</td>\n",
       "    </tr>\n",
       "    <tr>\n",
       "      <th>2372</th>\n",
       "      <td>North Jaime</td>\n",
       "      <td>2019-02-10 21:03:50</td>\n",
       "      <td>11.11</td>\n",
       "      <td>2781339863778</td>\n",
       "    </tr>\n",
       "    <tr>\n",
       "      <th>2373</th>\n",
       "      <td>West Heather</td>\n",
       "      <td>2019-05-07 19:22:15</td>\n",
       "      <td>44.94</td>\n",
       "      <td>4256853490277</td>\n",
       "    </tr>\n",
       "    <tr>\n",
       "      <th>2374</th>\n",
       "      <td>Newtonview</td>\n",
       "      <td>2019-04-25 10:20:13</td>\n",
       "      <td>55.84</td>\n",
       "      <td>9990581345298</td>\n",
       "    </tr>\n",
       "  </tbody>\n",
       "</table>\n",
       "</div>"
      ],
      "text/plain": [
       "                 city                 date   fare        ride_id\n",
       "2370      Michaelberg  2019-04-29 17:04:39  13.38  8550365057598\n",
       "2371  Lake Latoyabury  2019-01-30 00:05:47  20.76  9018727594352\n",
       "2372      North Jaime  2019-02-10 21:03:50  11.11  2781339863778\n",
       "2373     West Heather  2019-05-07 19:22:15  44.94  4256853490277\n",
       "2374       Newtonview  2019-04-25 10:20:13  55.84  9990581345298"
      ]
     },
     "execution_count": 89,
     "metadata": {},
     "output_type": "execute_result"
    }
   ],
   "source": [
    "# Load the ride data into a Dataframe\n",
    "ride_data_df = pd.read_csv(ride_data_to_load)\n",
    "ride_data_df.tail(5)"
   ]
  },
  {
   "cell_type": "code",
   "execution_count": 90,
   "metadata": {},
   "outputs": [],
   "source": [
    "### Data Inspection\n",
    "## Check rows and columns for null values\n",
    "## Ensure correct data types; ie. driver_count\n",
    "## List data points for each type of city"
   ]
  },
  {
   "cell_type": "code",
   "execution_count": 91,
   "metadata": {},
   "outputs": [
    {
     "data": {
      "text/plain": [
       "city            120\n",
       "driver_count    120\n",
       "type            120\n",
       "dtype: int64"
      ]
     },
     "execution_count": 91,
     "metadata": {},
     "output_type": "execute_result"
    }
   ],
   "source": [
    "## City Check for Null Values\n",
    "#City Data\n",
    "city_data_df.count() # returns 120 values in three fields\n",
    "#city_data_df.isnull().sum() # sums null values per field.  \n",
    "##No Nulls found in City Data."
   ]
  },
  {
   "cell_type": "code",
   "execution_count": 92,
   "metadata": {},
   "outputs": [],
   "source": [
    "## Ensure correct data type for driver_count so we can do calculations on field\n",
    "#city_data_df.dtypes # driver count in int64. so we are good for calcs.\n",
    "#ride_data_df.dtypes # ride data looks correct. Date treated as object\\string"
   ]
  },
  {
   "cell_type": "code",
   "execution_count": 93,
   "metadata": {},
   "outputs": [
    {
     "data": {
      "text/plain": [
       "array(['Rural', 'Suburban', 'Urban'], dtype=object)"
      ]
     },
     "execution_count": 93,
     "metadata": {},
     "output_type": "execute_result"
    }
   ],
   "source": [
    "## List data points for each type of city\n",
    "city_types = city_data_df[\"type\"].unique() # uses unique() method on specific column\n",
    "city_types=np.sort(city_data)\n",
    "city_types"
   ]
  },
  {
   "cell_type": "code",
   "execution_count": 94,
   "metadata": {},
   "outputs": [],
   "source": [
    "## City Types : count of types\n",
    "#sum(city_data_df[\"type\"]==\"Urban\")\n",
    "#sum(city_data_df[\"type\"]==\"Suburban\")\n",
    "#sum(city_data_df[\"type\"]==\"Rural\")\n",
    "## 66 Urban 36 Suburban  leaving 18 for Rural - math baby"
   ]
  },
  {
   "cell_type": "code",
   "execution_count": 95,
   "metadata": {},
   "outputs": [],
   "source": [
    "## Inspect Ride Data Dataframe\n",
    "#ride_data_df.dtypes # inspect the datatypes \n",
    "\n",
    "## Check Ride Data for Nulls\n",
    "\n",
    "#ride_data_df.count() # returns 2375 values in four fields\n",
    "#ride_data_df.isnull().sum() # sums null values per field.  \n",
    "\n",
    "## No Nulls found in Ride Data.\n",
    "\n",
    "## Inspect fare and ride_id fields for numerical\n",
    "# ride_data_df.dtypes\n",
    "# ride data looks correct. fare is float 64 and ride_id is int. Will work!"
   ]
  },
  {
   "cell_type": "code",
   "execution_count": 96,
   "metadata": {},
   "outputs": [
    {
     "data": {
      "text/html": [
       "<div>\n",
       "<style scoped>\n",
       "    .dataframe tbody tr th:only-of-type {\n",
       "        vertical-align: middle;\n",
       "    }\n",
       "\n",
       "    .dataframe tbody tr th {\n",
       "        vertical-align: top;\n",
       "    }\n",
       "\n",
       "    .dataframe thead th {\n",
       "        text-align: right;\n",
       "    }\n",
       "</style>\n",
       "<table border=\"1\" class=\"dataframe\">\n",
       "  <thead>\n",
       "    <tr style=\"text-align: right;\">\n",
       "      <th></th>\n",
       "      <th>city</th>\n",
       "      <th>date</th>\n",
       "      <th>fare</th>\n",
       "      <th>ride_id</th>\n",
       "      <th>driver_count</th>\n",
       "      <th>type</th>\n",
       "    </tr>\n",
       "  </thead>\n",
       "  <tbody>\n",
       "    <tr>\n",
       "      <th>0</th>\n",
       "      <td>Lake Jonathanshire</td>\n",
       "      <td>2019-01-14 10:14:22</td>\n",
       "      <td>13.83</td>\n",
       "      <td>5739410935873</td>\n",
       "      <td>5</td>\n",
       "      <td>Urban</td>\n",
       "    </tr>\n",
       "    <tr>\n",
       "      <th>1</th>\n",
       "      <td>South Michelleport</td>\n",
       "      <td>2019-03-04 18:24:09</td>\n",
       "      <td>30.24</td>\n",
       "      <td>2343912425577</td>\n",
       "      <td>72</td>\n",
       "      <td>Urban</td>\n",
       "    </tr>\n",
       "    <tr>\n",
       "      <th>2</th>\n",
       "      <td>Port Samanthamouth</td>\n",
       "      <td>2019-02-24 04:29:00</td>\n",
       "      <td>33.44</td>\n",
       "      <td>2005065760003</td>\n",
       "      <td>57</td>\n",
       "      <td>Urban</td>\n",
       "    </tr>\n",
       "    <tr>\n",
       "      <th>3</th>\n",
       "      <td>Rodneyfort</td>\n",
       "      <td>2019-02-10 23:22:03</td>\n",
       "      <td>23.44</td>\n",
       "      <td>5149245426178</td>\n",
       "      <td>34</td>\n",
       "      <td>Urban</td>\n",
       "    </tr>\n",
       "    <tr>\n",
       "      <th>4</th>\n",
       "      <td>South Jack</td>\n",
       "      <td>2019-03-06 04:28:35</td>\n",
       "      <td>34.58</td>\n",
       "      <td>3908451377344</td>\n",
       "      <td>46</td>\n",
       "      <td>Urban</td>\n",
       "    </tr>\n",
       "  </tbody>\n",
       "</table>\n",
       "</div>"
      ],
      "text/plain": [
       "                 city                 date   fare        ride_id  \\\n",
       "0  Lake Jonathanshire  2019-01-14 10:14:22  13.83  5739410935873   \n",
       "1  South Michelleport  2019-03-04 18:24:09  30.24  2343912425577   \n",
       "2  Port Samanthamouth  2019-02-24 04:29:00  33.44  2005065760003   \n",
       "3          Rodneyfort  2019-02-10 23:22:03  23.44  5149245426178   \n",
       "4          South Jack  2019-03-06 04:28:35  34.58  3908451377344   \n",
       "\n",
       "   driver_count   type  \n",
       "0             5  Urban  \n",
       "1            72  Urban  \n",
       "2            57  Urban  \n",
       "3            34  Urban  \n",
       "4            46  Urban  "
      ]
     },
     "execution_count": 96,
     "metadata": {},
     "output_type": "execute_result"
    }
   ],
   "source": [
    "### Merge the DataFrame\n",
    "# new_df = pd.merge(leftdf, rightdf, on=[\"column_leftdf\", \"column_rightdf\"])\n",
    "\n",
    "# In our case we join on city. \n",
    "# It is a left join since we want all ride data plus matching city data\n",
    "\n",
    "pyber_data_df=pd.merge(ride_data_df, city_data_df, how=\"left\", on=[\"city\",\"city\"])\n",
    "pyber_data_df.head()"
   ]
  },
  {
   "cell_type": "code",
   "execution_count": 97,
   "metadata": {},
   "outputs": [
    {
     "data": {
      "text/html": [
       "<div>\n",
       "<style scoped>\n",
       "    .dataframe tbody tr th:only-of-type {\n",
       "        vertical-align: middle;\n",
       "    }\n",
       "\n",
       "    .dataframe tbody tr th {\n",
       "        vertical-align: top;\n",
       "    }\n",
       "\n",
       "    .dataframe thead th {\n",
       "        text-align: right;\n",
       "    }\n",
       "</style>\n",
       "<table border=\"1\" class=\"dataframe\">\n",
       "  <thead>\n",
       "    <tr style=\"text-align: right;\">\n",
       "      <th></th>\n",
       "      <th>city</th>\n",
       "      <th>date</th>\n",
       "      <th>fare</th>\n",
       "      <th>ride_id</th>\n",
       "      <th>driver_count</th>\n",
       "      <th>type</th>\n",
       "    </tr>\n",
       "  </thead>\n",
       "  <tbody>\n",
       "    <tr>\n",
       "      <th>0</th>\n",
       "      <td>Lake Jonathanshire</td>\n",
       "      <td>2019-01-14 10:14:22</td>\n",
       "      <td>13.83</td>\n",
       "      <td>5739410935873</td>\n",
       "      <td>5</td>\n",
       "      <td>Urban</td>\n",
       "    </tr>\n",
       "    <tr>\n",
       "      <th>1</th>\n",
       "      <td>South Michelleport</td>\n",
       "      <td>2019-03-04 18:24:09</td>\n",
       "      <td>30.24</td>\n",
       "      <td>2343912425577</td>\n",
       "      <td>72</td>\n",
       "      <td>Urban</td>\n",
       "    </tr>\n",
       "    <tr>\n",
       "      <th>2</th>\n",
       "      <td>Port Samanthamouth</td>\n",
       "      <td>2019-02-24 04:29:00</td>\n",
       "      <td>33.44</td>\n",
       "      <td>2005065760003</td>\n",
       "      <td>57</td>\n",
       "      <td>Urban</td>\n",
       "    </tr>\n",
       "    <tr>\n",
       "      <th>3</th>\n",
       "      <td>Rodneyfort</td>\n",
       "      <td>2019-02-10 23:22:03</td>\n",
       "      <td>23.44</td>\n",
       "      <td>5149245426178</td>\n",
       "      <td>34</td>\n",
       "      <td>Urban</td>\n",
       "    </tr>\n",
       "    <tr>\n",
       "      <th>4</th>\n",
       "      <td>South Jack</td>\n",
       "      <td>2019-03-06 04:28:35</td>\n",
       "      <td>34.58</td>\n",
       "      <td>3908451377344</td>\n",
       "      <td>46</td>\n",
       "      <td>Urban</td>\n",
       "    </tr>\n",
       "  </tbody>\n",
       "</table>\n",
       "</div>"
      ],
      "text/plain": [
       "                 city                 date   fare        ride_id  \\\n",
       "0  Lake Jonathanshire  2019-01-14 10:14:22  13.83  5739410935873   \n",
       "1  South Michelleport  2019-03-04 18:24:09  30.24  2343912425577   \n",
       "2  Port Samanthamouth  2019-02-24 04:29:00  33.44  2005065760003   \n",
       "3          Rodneyfort  2019-02-10 23:22:03  23.44  5149245426178   \n",
       "4          South Jack  2019-03-06 04:28:35  34.58  3908451377344   \n",
       "\n",
       "   driver_count   type  \n",
       "0             5  Urban  \n",
       "1            72  Urban  \n",
       "2            57  Urban  \n",
       "3            34  Urban  \n",
       "4            46  Urban  "
      ]
     },
     "execution_count": 97,
     "metadata": {},
     "output_type": "execute_result"
    }
   ],
   "source": [
    "### Create DataFrames for each city type.\n",
    "##  Create Urban cities DF\n",
    "urban_cities_df=pyber_data_df[pyber_data_df[\"type\"]==\"Urban\"]\n",
    "urban_cities_df.head()"
   ]
  },
  {
   "cell_type": "code",
   "execution_count": 98,
   "metadata": {},
   "outputs": [
    {
     "data": {
      "text/html": [
       "<div>\n",
       "<style scoped>\n",
       "    .dataframe tbody tr th:only-of-type {\n",
       "        vertical-align: middle;\n",
       "    }\n",
       "\n",
       "    .dataframe tbody tr th {\n",
       "        vertical-align: top;\n",
       "    }\n",
       "\n",
       "    .dataframe thead th {\n",
       "        text-align: right;\n",
       "    }\n",
       "</style>\n",
       "<table border=\"1\" class=\"dataframe\">\n",
       "  <thead>\n",
       "    <tr style=\"text-align: right;\">\n",
       "      <th></th>\n",
       "      <th>city</th>\n",
       "      <th>date</th>\n",
       "      <th>fare</th>\n",
       "      <th>ride_id</th>\n",
       "      <th>driver_count</th>\n",
       "      <th>type</th>\n",
       "    </tr>\n",
       "  </thead>\n",
       "  <tbody>\n",
       "    <tr>\n",
       "      <th>1625</th>\n",
       "      <td>Barronchester</td>\n",
       "      <td>2019-01-27 03:08:01</td>\n",
       "      <td>27.79</td>\n",
       "      <td>6653622887913</td>\n",
       "      <td>11</td>\n",
       "      <td>Suburban</td>\n",
       "    </tr>\n",
       "    <tr>\n",
       "      <th>1626</th>\n",
       "      <td>East Kentstad</td>\n",
       "      <td>2019-04-07 19:44:19</td>\n",
       "      <td>18.75</td>\n",
       "      <td>6575961095852</td>\n",
       "      <td>20</td>\n",
       "      <td>Suburban</td>\n",
       "    </tr>\n",
       "    <tr>\n",
       "      <th>1627</th>\n",
       "      <td>Lake Omar</td>\n",
       "      <td>2019-01-17 21:33:35</td>\n",
       "      <td>21.71</td>\n",
       "      <td>966911700371</td>\n",
       "      <td>22</td>\n",
       "      <td>Suburban</td>\n",
       "    </tr>\n",
       "    <tr>\n",
       "      <th>1628</th>\n",
       "      <td>Myersshire</td>\n",
       "      <td>2019-02-27 17:38:39</td>\n",
       "      <td>17.10</td>\n",
       "      <td>5706770909868</td>\n",
       "      <td>19</td>\n",
       "      <td>Suburban</td>\n",
       "    </tr>\n",
       "    <tr>\n",
       "      <th>1629</th>\n",
       "      <td>West Hannah</td>\n",
       "      <td>2019-04-19 01:06:59</td>\n",
       "      <td>37.78</td>\n",
       "      <td>2273047151891</td>\n",
       "      <td>12</td>\n",
       "      <td>Suburban</td>\n",
       "    </tr>\n",
       "  </tbody>\n",
       "</table>\n",
       "</div>"
      ],
      "text/plain": [
       "               city                 date   fare        ride_id  driver_count  \\\n",
       "1625  Barronchester  2019-01-27 03:08:01  27.79  6653622887913            11   \n",
       "1626  East Kentstad  2019-04-07 19:44:19  18.75  6575961095852            20   \n",
       "1627      Lake Omar  2019-01-17 21:33:35  21.71   966911700371            22   \n",
       "1628     Myersshire  2019-02-27 17:38:39  17.10  5706770909868            19   \n",
       "1629    West Hannah  2019-04-19 01:06:59  37.78  2273047151891            12   \n",
       "\n",
       "          type  \n",
       "1625  Suburban  \n",
       "1626  Suburban  \n",
       "1627  Suburban  \n",
       "1628  Suburban  \n",
       "1629  Suburban  "
      ]
     },
     "execution_count": 98,
     "metadata": {},
     "output_type": "execute_result"
    }
   ],
   "source": [
    "## Create subarban DFs\n",
    "suburban_cities_df=pyber_data_df[pyber_data_df[\"type\"]==\"Suburban\"]\n",
    "suburban_cities_df.head()"
   ]
  },
  {
   "cell_type": "code",
   "execution_count": 99,
   "metadata": {},
   "outputs": [
    {
     "data": {
      "text/html": [
       "<div>\n",
       "<style scoped>\n",
       "    .dataframe tbody tr th:only-of-type {\n",
       "        vertical-align: middle;\n",
       "    }\n",
       "\n",
       "    .dataframe tbody tr th {\n",
       "        vertical-align: top;\n",
       "    }\n",
       "\n",
       "    .dataframe thead th {\n",
       "        text-align: right;\n",
       "    }\n",
       "</style>\n",
       "<table border=\"1\" class=\"dataframe\">\n",
       "  <thead>\n",
       "    <tr style=\"text-align: right;\">\n",
       "      <th></th>\n",
       "      <th>city</th>\n",
       "      <th>date</th>\n",
       "      <th>fare</th>\n",
       "      <th>ride_id</th>\n",
       "      <th>driver_count</th>\n",
       "      <th>type</th>\n",
       "    </tr>\n",
       "  </thead>\n",
       "  <tbody>\n",
       "    <tr>\n",
       "      <th>2250</th>\n",
       "      <td>Randallchester</td>\n",
       "      <td>2019-04-13 11:13:31</td>\n",
       "      <td>43.22</td>\n",
       "      <td>1076079536213</td>\n",
       "      <td>9</td>\n",
       "      <td>Rural</td>\n",
       "    </tr>\n",
       "    <tr>\n",
       "      <th>2251</th>\n",
       "      <td>North Holly</td>\n",
       "      <td>2019-02-02 14:54:00</td>\n",
       "      <td>12.42</td>\n",
       "      <td>1985256326182</td>\n",
       "      <td>8</td>\n",
       "      <td>Rural</td>\n",
       "    </tr>\n",
       "    <tr>\n",
       "      <th>2252</th>\n",
       "      <td>Michaelberg</td>\n",
       "      <td>2019-03-27 18:27:34</td>\n",
       "      <td>54.85</td>\n",
       "      <td>4421836952718</td>\n",
       "      <td>6</td>\n",
       "      <td>Rural</td>\n",
       "    </tr>\n",
       "    <tr>\n",
       "      <th>2253</th>\n",
       "      <td>Lake Latoyabury</td>\n",
       "      <td>2019-02-23 21:12:24</td>\n",
       "      <td>47.90</td>\n",
       "      <td>3269652929887</td>\n",
       "      <td>2</td>\n",
       "      <td>Rural</td>\n",
       "    </tr>\n",
       "    <tr>\n",
       "      <th>2254</th>\n",
       "      <td>Lake Latoyabury</td>\n",
       "      <td>2019-05-06 08:57:56</td>\n",
       "      <td>51.80</td>\n",
       "      <td>4018025271936</td>\n",
       "      <td>2</td>\n",
       "      <td>Rural</td>\n",
       "    </tr>\n",
       "  </tbody>\n",
       "</table>\n",
       "</div>"
      ],
      "text/plain": [
       "                 city                 date   fare        ride_id  \\\n",
       "2250   Randallchester  2019-04-13 11:13:31  43.22  1076079536213   \n",
       "2251      North Holly  2019-02-02 14:54:00  12.42  1985256326182   \n",
       "2252      Michaelberg  2019-03-27 18:27:34  54.85  4421836952718   \n",
       "2253  Lake Latoyabury  2019-02-23 21:12:24  47.90  3269652929887   \n",
       "2254  Lake Latoyabury  2019-05-06 08:57:56  51.80  4018025271936   \n",
       "\n",
       "      driver_count   type  \n",
       "2250             9  Rural  \n",
       "2251             8  Rural  \n",
       "2252             6  Rural  \n",
       "2253             2  Rural  \n",
       "2254             2  Rural  "
      ]
     },
     "execution_count": 99,
     "metadata": {},
     "output_type": "execute_result"
    }
   ],
   "source": [
    "## Create rural DFs\n",
    "rural_cities_df=pyber_data_df[pyber_data_df[\"type\"]==\"Rural\"]\n",
    "rural_cities_df.head()"
   ]
  },
  {
   "cell_type": "code",
   "execution_count": 100,
   "metadata": {},
   "outputs": [
    {
     "data": {
      "text/plain": [
       "1625"
      ]
     },
     "execution_count": 100,
     "metadata": {},
     "output_type": "execute_result"
    }
   ],
   "source": [
    "### Total Rides: Rides Per City\n",
    "## Urban Rides Per City\n",
    "urban_ride_count = urban_cities_df.groupby([\"city\"]).count()[\"ride_id\"]\n",
    "#urban_ride_count.head()\n",
    "urban_ride_count = urban_ride_count.sum()\n",
    "urban_ride_count"
   ]
  },
  {
   "cell_type": "code",
   "execution_count": 101,
   "metadata": {},
   "outputs": [
    {
     "data": {
      "text/plain": [
       "625"
      ]
     },
     "execution_count": 101,
     "metadata": {},
     "output_type": "execute_result"
    }
   ],
   "source": [
    "## Suburban Rides Per City\n",
    "suburban_ride_count = suburban_cities_df.groupby([\"city\"]).count()[\"ride_id\"]\n",
    "#suburban_ride_count.head()\n",
    "suburban_ride_count=suburban_ride_count.sum()\n",
    "suburban_ride_count"
   ]
  },
  {
   "cell_type": "code",
   "execution_count": 102,
   "metadata": {},
   "outputs": [
    {
     "data": {
      "text/plain": [
       "125"
      ]
     },
     "execution_count": 102,
     "metadata": {},
     "output_type": "execute_result"
    }
   ],
   "source": [
    "## Rural Rides Per City\n",
    "rural_ride_count = rural_cities_df.groupby([\"city\"]).count()[\"ride_id\"]\n",
    "#rural_ride_count.head()\n",
    "rural_ride_count=rural_ride_count.sum()\n",
    "rural_ride_count"
   ]
  },
  {
   "cell_type": "code",
   "execution_count": 103,
   "metadata": {},
   "outputs": [
    {
     "data": {
      "text/plain": [
       "2405.0"
      ]
     },
     "execution_count": 103,
     "metadata": {},
     "output_type": "execute_result"
    }
   ],
   "source": [
    "### Total Drivers: Actually calculated as Average Drivers Per City \n",
    "    # Conflict between instructions and proviced picture of what final summary DataFrame should look like.\n",
    "    # The DataFrame pictures is asking for Avergage Drivers per City in the Total Drives field. \n",
    "## Urban Drivers Per City\n",
    "urban_driver_count = urban_cities_df.groupby([\"city\"]).mean()[\"driver_count\"]\n",
    "urban_driver_count=urban_driver_count.sum()\n",
    "urban_driver_count"
   ]
  },
  {
   "cell_type": "code",
   "execution_count": 104,
   "metadata": {},
   "outputs": [
    {
     "data": {
      "text/plain": [
       "490.0"
      ]
     },
     "execution_count": 104,
     "metadata": {},
     "output_type": "execute_result"
    }
   ],
   "source": [
    "## Suburban Drivers Per City\n",
    "suburban_driver_count = suburban_cities_df.groupby([\"city\"]).mean()[\"driver_count\"]\n",
    "suburban_driver_count = suburban_driver_count.sum()\n",
    "suburban_driver_count"
   ]
  },
  {
   "cell_type": "code",
   "execution_count": 105,
   "metadata": {},
   "outputs": [
    {
     "data": {
      "text/plain": [
       "78.0"
      ]
     },
     "execution_count": 105,
     "metadata": {},
     "output_type": "execute_result"
    }
   ],
   "source": [
    "## Rural Drivers per City\n",
    "rural_driver_count = rural_cities_df.groupby([\"city\"]).mean()[\"driver_count\"]\n",
    "rural_driver_count=rural_driver_count.sum()\n",
    "rural_driver_count"
   ]
  },
  {
   "cell_type": "code",
   "execution_count": 106,
   "metadata": {},
   "outputs": [],
   "source": [
    "### Total Fares Per City"
   ]
  },
  {
   "cell_type": "code",
   "execution_count": 107,
   "metadata": {},
   "outputs": [
    {
     "data": {
      "text/plain": [
       "39854.38000000001"
      ]
     },
     "execution_count": 107,
     "metadata": {},
     "output_type": "execute_result"
    }
   ],
   "source": [
    "## Urban Tatal Fares\n",
    "urban_tot_fare = urban_cities_df.groupby([\"city\"]).sum()[\"fare\"]\n",
    "urban_tot_fare=urban_tot_fare.sum()\n",
    "urban_tot_fare"
   ]
  },
  {
   "cell_type": "code",
   "execution_count": 108,
   "metadata": {},
   "outputs": [
    {
     "data": {
      "text/plain": [
       "19356.33"
      ]
     },
     "execution_count": 108,
     "metadata": {},
     "output_type": "execute_result"
    }
   ],
   "source": [
    "## Suburban Tatal Fares\n",
    "suburban_tot_fare = suburban_cities_df.groupby([\"city\"]).sum()[\"fare\"]\n",
    "suburban_tot_fare=suburban_tot_fare.sum()\n",
    "suburban_tot_fare"
   ]
  },
  {
   "cell_type": "code",
   "execution_count": 109,
   "metadata": {},
   "outputs": [
    {
     "data": {
      "text/plain": [
       "4327.93"
      ]
     },
     "execution_count": 109,
     "metadata": {},
     "output_type": "execute_result"
    }
   ],
   "source": [
    "## Rural Tatal Fares\n",
    "rural_tot_fare = rural_cities_df.groupby([\"city\"]).sum()[\"fare\"]\n",
    "rural_tot_fare=rural_tot_fare.sum()\n",
    "rural_tot_fare"
   ]
  },
  {
   "cell_type": "code",
   "execution_count": 110,
   "metadata": {},
   "outputs": [
    {
     "data": {
      "text/plain": [
       "24.525772307692314"
      ]
     },
     "execution_count": 110,
     "metadata": {},
     "output_type": "execute_result"
    }
   ],
   "source": [
    "### Average Fare per Ride Calculation\n",
    "## Urban Average Fare per Ride\n",
    "urban_avg_fare_per_ride = urban_tot_fare / urban_ride_count #* 100\n",
    "urban_avg_fare_per_ride"
   ]
  },
  {
   "cell_type": "code",
   "execution_count": 111,
   "metadata": {},
   "outputs": [
    {
     "data": {
      "text/plain": [
       "30.970128000000003"
      ]
     },
     "execution_count": 111,
     "metadata": {},
     "output_type": "execute_result"
    }
   ],
   "source": [
    "# Suburban Average Fare per Ride\n",
    "suburban_avg_fare_per_ride = suburban_tot_fare / suburban_ride_count #* 100\n",
    "suburban_avg_fare_per_ride"
   ]
  },
  {
   "cell_type": "code",
   "execution_count": 112,
   "metadata": {},
   "outputs": [
    {
     "data": {
      "text/plain": [
       "34.62344"
      ]
     },
     "execution_count": 112,
     "metadata": {},
     "output_type": "execute_result"
    }
   ],
   "source": [
    "# Rural Average Fare per Ride\n",
    "rural_avg_fare_per_ride = rural_tot_fare / rural_ride_count #* 100\n",
    "rural_avg_fare_per_ride"
   ]
  },
  {
   "cell_type": "code",
   "execution_count": 113,
   "metadata": {},
   "outputs": [
    {
     "data": {
      "text/plain": [
       "16.57146777546778"
      ]
     },
     "execution_count": 113,
     "metadata": {},
     "output_type": "execute_result"
    }
   ],
   "source": [
    "### Average Fare per Driver\n",
    "## Urban Average Fare per Driver\n",
    "urban_avg_fare_per_driver = urban_tot_fare/ urban_driver_count#* 100\n",
    "urban_avg_fare_per_driver"
   ]
  },
  {
   "cell_type": "code",
   "execution_count": 114,
   "metadata": {},
   "outputs": [
    {
     "data": {
      "text/plain": [
       "39.50271428571429"
      ]
     },
     "execution_count": 114,
     "metadata": {},
     "output_type": "execute_result"
    }
   ],
   "source": [
    "## Suburban Average Fare per Driver\n",
    "suburban_avg_fare_per_driver = suburban_tot_fare/ suburban_driver_count #* 100\n",
    "suburban_avg_fare_per_driver"
   ]
  },
  {
   "cell_type": "code",
   "execution_count": 115,
   "metadata": {},
   "outputs": [
    {
     "data": {
      "text/plain": [
       "55.48628205128205"
      ]
     },
     "execution_count": 115,
     "metadata": {},
     "output_type": "execute_result"
    }
   ],
   "source": [
    "## rural Average Fare per Driver\n",
    "rural_avg_fare_per_driver = rural_tot_fare/ rural_driver_count #* 100\n",
    "rural_avg_fare_per_driver"
   ]
  },
  {
   "cell_type": "code",
   "execution_count": 116,
   "metadata": {},
   "outputs": [
    {
     "data": {
      "text/html": [
       "<div>\n",
       "<style scoped>\n",
       "    .dataframe tbody tr th:only-of-type {\n",
       "        vertical-align: middle;\n",
       "    }\n",
       "\n",
       "    .dataframe tbody tr th {\n",
       "        vertical-align: top;\n",
       "    }\n",
       "\n",
       "    .dataframe thead th {\n",
       "        text-align: right;\n",
       "    }\n",
       "</style>\n",
       "<table border=\"1\" class=\"dataframe\">\n",
       "  <thead>\n",
       "    <tr style=\"text-align: right;\">\n",
       "      <th></th>\n",
       "      <th>city</th>\n",
       "      <th>date</th>\n",
       "      <th>fare</th>\n",
       "      <th>ride_id</th>\n",
       "      <th>driver_count</th>\n",
       "      <th>type</th>\n",
       "    </tr>\n",
       "  </thead>\n",
       "  <tbody>\n",
       "    <tr>\n",
       "      <th>0</th>\n",
       "      <td>Lake Jonathanshire</td>\n",
       "      <td>2019-01-14 10:14:22</td>\n",
       "      <td>13.83</td>\n",
       "      <td>5739410935873</td>\n",
       "      <td>5</td>\n",
       "      <td>Urban</td>\n",
       "    </tr>\n",
       "    <tr>\n",
       "      <th>1</th>\n",
       "      <td>South Michelleport</td>\n",
       "      <td>2019-03-04 18:24:09</td>\n",
       "      <td>30.24</td>\n",
       "      <td>2343912425577</td>\n",
       "      <td>72</td>\n",
       "      <td>Urban</td>\n",
       "    </tr>\n",
       "    <tr>\n",
       "      <th>2</th>\n",
       "      <td>Port Samanthamouth</td>\n",
       "      <td>2019-02-24 04:29:00</td>\n",
       "      <td>33.44</td>\n",
       "      <td>2005065760003</td>\n",
       "      <td>57</td>\n",
       "      <td>Urban</td>\n",
       "    </tr>\n",
       "    <tr>\n",
       "      <th>3</th>\n",
       "      <td>Rodneyfort</td>\n",
       "      <td>2019-02-10 23:22:03</td>\n",
       "      <td>23.44</td>\n",
       "      <td>5149245426178</td>\n",
       "      <td>34</td>\n",
       "      <td>Urban</td>\n",
       "    </tr>\n",
       "    <tr>\n",
       "      <th>4</th>\n",
       "      <td>South Jack</td>\n",
       "      <td>2019-03-06 04:28:35</td>\n",
       "      <td>34.58</td>\n",
       "      <td>3908451377344</td>\n",
       "      <td>46</td>\n",
       "      <td>Urban</td>\n",
       "    </tr>\n",
       "  </tbody>\n",
       "</table>\n",
       "</div>"
      ],
      "text/plain": [
       "                 city                 date   fare        ride_id  \\\n",
       "0  Lake Jonathanshire  2019-01-14 10:14:22  13.83  5739410935873   \n",
       "1  South Michelleport  2019-03-04 18:24:09  30.24  2343912425577   \n",
       "2  Port Samanthamouth  2019-02-24 04:29:00  33.44  2005065760003   \n",
       "3          Rodneyfort  2019-02-10 23:22:03  23.44  5149245426178   \n",
       "4          South Jack  2019-03-06 04:28:35  34.58  3908451377344   \n",
       "\n",
       "   driver_count   type  \n",
       "0             5  Urban  \n",
       "1            72  Urban  \n",
       "2            57  Urban  \n",
       "3            34  Urban  \n",
       "4            46  Urban  "
      ]
     },
     "execution_count": 116,
     "metadata": {},
     "output_type": "execute_result"
    }
   ],
   "source": [
    "## quick data review\n",
    "pyber_data_df.head()"
   ]
  },
  {
   "cell_type": "code",
   "execution_count": 117,
   "metadata": {},
   "outputs": [
    {
     "data": {
      "text/plain": [
       "city             object\n",
       "date             object\n",
       "fare            float64\n",
       "ride_id           int64\n",
       "driver_count      int64\n",
       "type             object\n",
       "dtype: object"
      ]
     },
     "execution_count": 117,
     "metadata": {},
     "output_type": "execute_result"
    }
   ],
   "source": [
    "# check the data types\n",
    "pyber_data_df.dtypes"
   ]
  },
  {
   "cell_type": "code",
   "execution_count": 118,
   "metadata": {},
   "outputs": [],
   "source": [
    "### Create Summmary DataFrame \n",
    "### This first attempt to create  the dataframe does work\n",
    "### but formatting becomes impossible because everything \n",
    "### gets treated as string.\n",
    "\n",
    "### May Have to find another way to create the DF\n",
    "\n",
    "#  pyber_summary_data = [{\"Type\": \"Rural\", \"Total Rides\": rural_ride_count, \"Total Drivers\":rural_driver_count,\"Total Fares\": rural_tot_fare, \"Average Fare per Ride\":rural_avg_fare_per_ride,\"Average Fare per Driver\":rural_avg_fare_per_driver},\n",
    "#       {\"Type\":\"Suburban\",\"Total Rides\":suburban_ride_count, \"Total Drivers\":suburban_driver_count, \"Total Fares\":suburban_tot_fare, \"Average Fare per Ride\":suburban_avg_fare_per_ride,\"Average Fare per Driver\":suburban_avg_fare_per_driver},\n",
    "#       {\"Type\":\"Urban\", \"Total Rides\":urban_ride_count, \"Total Drivers\":urban_driver_count, \"Total Fares\":urban_tot_fare, \"Average Fare per Ride\": urban_avg_fare_per_ride, \"Average Fare per Driver\":urban_avg_fare_per_driver}]\n",
    "#  pyber_summary_df=pd.DataFrame(pyber_summary_data) \n",
    "#  pyber_summary_df"
   ]
  },
  {
   "cell_type": "code",
   "execution_count": 119,
   "metadata": {},
   "outputs": [],
   "source": [
    "### Trying a different way to create the dataframe\n",
    " ##  Combine the five series into a single dataframe    "
   ]
  },
  {
   "cell_type": "code",
   "execution_count": 120,
   "metadata": {},
   "outputs": [],
   "source": [
    "#### Method 2 of creating DF"
   ]
  },
  {
   "cell_type": "code",
   "execution_count": 121,
   "metadata": {},
   "outputs": [
    {
     "data": {
      "text/plain": [
       "(125, 625, 1625)"
      ]
     },
     "execution_count": 121,
     "metadata": {},
     "output_type": "execute_result"
    }
   ],
   "source": [
    "## First series for DF  is Total Rides\n",
    "# total_rides_by_type = pd.DataFrame({\n",
    "#      \"Rural\": rural_ride_count,\n",
    "#      \"Suburban\": suburban_ride_count,\n",
    "#      \"Urban\": urban_ride_count})\n",
    "# total_rides_by_type\n",
    "## create a series not a DF\n",
    "total_rides_by_type = (rural_ride_count, suburban_ride_count,urban_ride_count)\n",
    "total_rides_by_type"
   ]
  },
  {
   "cell_type": "code",
   "execution_count": 122,
   "metadata": {},
   "outputs": [
    {
     "data": {
      "text/plain": [
       "(78.0, 490.0, 2405.0)"
      ]
     },
     "execution_count": 122,
     "metadata": {},
     "output_type": "execute_result"
    }
   ],
   "source": [
    "## Second series for DF is Total Drivers\n",
    "\n",
    "# total_drivers_by_type = pd.DataFrame({\n",
    "#      \"Rural\": rural_driver_count,\n",
    "#      \"Suburban\": suburban_driver_count,\n",
    "#      \"Urban\": urban_driver_count})\n",
    "# total_drivers_by_type\n",
    "\n",
    "## create a series not a DF\n",
    "total_drivers_by_type =(rural_driver_count, suburban_driver_count, urban_driver_count)\n",
    "total_drivers_by_type"
   ]
  },
  {
   "cell_type": "code",
   "execution_count": 123,
   "metadata": {},
   "outputs": [
    {
     "data": {
      "text/plain": [
       "(4327.93, 19356.33, 39854.38000000001)"
      ]
     },
     "execution_count": 123,
     "metadata": {},
     "output_type": "execute_result"
    }
   ],
   "source": [
    "## Third series for DF is Total Fares\n",
    "# total_fares = pd.DataFrame({\n",
    "#      \"Rural\": rural_tot_fare,\n",
    "#      \"Suburban\": suburban_tot_fare,\n",
    "#      \"Urban\": urban_tot_fare})\n",
    "# total_fares\n",
    "\n",
    "## create a series not a DF\n",
    "total_fares =(rural_tot_fare, suburban_tot_fare, urban_tot_fare)\n",
    "total_fares"
   ]
  },
  {
   "cell_type": "code",
   "execution_count": 124,
   "metadata": {},
   "outputs": [
    {
     "data": {
      "text/plain": [
       "(34.62344, 30.970128000000003, 24.525772307692314)"
      ]
     },
     "execution_count": 124,
     "metadata": {},
     "output_type": "execute_result"
    }
   ],
   "source": [
    "## Fourth series Average Fare Per Ride\n",
    "# avg_fare_per_ride = pd.DataFrame({\n",
    "#      \"Rural\": rural_avg_fare_per_ride,\n",
    "#      \"Suburban\": suburban_avg_fare_per_ride,\n",
    "#      \"Urban\": urban_avg_fare_per_ride},index=[0])\n",
    "# avg_fare_per_ride\n",
    "\n",
    "## create a series not a DF\n",
    "avg_fare_per_ride = (rural_avg_fare_per_ride, suburban_avg_fare_per_ride, urban_avg_fare_per_ride)\n",
    "avg_fare_per_ride"
   ]
  },
  {
   "cell_type": "code",
   "execution_count": 125,
   "metadata": {},
   "outputs": [
    {
     "data": {
      "text/plain": [
       "(55.48628205128205, 39.50271428571429, 16.57146777546778)"
      ]
     },
     "execution_count": 125,
     "metadata": {},
     "output_type": "execute_result"
    }
   ],
   "source": [
    "## Fith series Average Fare Per Driver\n",
    "# avg_fare_per_driver = pd.DataFrame({\n",
    "#      \"Rural\": rural_avg_fare_per_driver,\n",
    "#      \"Suburban\": suburban_avg_fare_per_driver,\n",
    "#      \"Urban\": urban_avg_fare_per_driver},index=[4])\n",
    "# avg_fare_per_driver\n",
    "\n",
    "## create a series not a DF\n",
    "avg_fare_per_driver = (rural_avg_fare_per_driver, suburban_avg_fare_per_driver, urban_avg_fare_per_driver)\n",
    "avg_fare_per_driver"
   ]
  },
  {
   "cell_type": "code",
   "execution_count": null,
   "metadata": {},
   "outputs": [],
   "source": []
  },
  {
   "cell_type": "code",
   "execution_count": 126,
   "metadata": {},
   "outputs": [],
   "source": [
    "#  pyber_summary_data = [\n",
    "#       {\"Type\": \"Rural\", \"Total Rides\": rural_ride_count, \"Total Drivers\":rural_driver_count,\"Total Fares\": rural_tot_fare, \"Average Fare per Ride\":rural_avg_fare_per_ride,\"Average Fare per Driver\":rural_avg_fare_per_driver},\n",
    "#       {\"Type\":\"Suburban\",\"Total Rides\":suburban_ride_count, \"Total Drivers\":suburban_driver_count, \"Total Fares\":suburban_tot_fare, \"Average Fare per Ride\":suburban_avg_fare_per_ride,\"Average Fare per Driver\":suburban_avg_fare_per_driver},\n",
    "#       {\"Type\":\"Urban\", \"Total Rides\":urban_ride_count, \"Total Drivers\":urban_driver_count, \"Total Fares\":urban_tot_fare, \"Average Fare per Ride\": urban_avg_fare_per_ride, \"Average Fare per Driver\":urban_avg_fare_per_driver}]\n",
    "#   pyber_summary_df=pd.DataFrame(pyber_summary_data) \n",
    "#   pyber_summary_df"
   ]
  },
  {
   "cell_type": "code",
   "execution_count": 184,
   "metadata": {},
   "outputs": [
    {
     "data": {
      "text/html": [
       "<div>\n",
       "<style scoped>\n",
       "    .dataframe tbody tr th:only-of-type {\n",
       "        vertical-align: middle;\n",
       "    }\n",
       "\n",
       "    .dataframe tbody tr th {\n",
       "        vertical-align: top;\n",
       "    }\n",
       "\n",
       "    .dataframe thead th {\n",
       "        text-align: right;\n",
       "    }\n",
       "</style>\n",
       "<table border=\"1\" class=\"dataframe\">\n",
       "  <thead>\n",
       "    <tr style=\"text-align: right;\">\n",
       "      <th></th>\n",
       "      <th>City Types</th>\n",
       "      <th>Total Rides</th>\n",
       "      <th>Total Drivers</th>\n",
       "      <th>Total Fares</th>\n",
       "      <th>Average Fare per Ride</th>\n",
       "      <th>Average Fare per Driver</th>\n",
       "    </tr>\n",
       "  </thead>\n",
       "  <tbody>\n",
       "    <tr>\n",
       "      <th>0</th>\n",
       "      <td>Rural</td>\n",
       "      <td>125</td>\n",
       "      <td>78.0</td>\n",
       "      <td>4327.93</td>\n",
       "      <td>34.623440</td>\n",
       "      <td>55.486282</td>\n",
       "    </tr>\n",
       "    <tr>\n",
       "      <th>1</th>\n",
       "      <td>Suburban</td>\n",
       "      <td>625</td>\n",
       "      <td>490.0</td>\n",
       "      <td>19356.33</td>\n",
       "      <td>30.970128</td>\n",
       "      <td>39.502714</td>\n",
       "    </tr>\n",
       "    <tr>\n",
       "      <th>2</th>\n",
       "      <td>Urban</td>\n",
       "      <td>1625</td>\n",
       "      <td>2405.0</td>\n",
       "      <td>39854.38</td>\n",
       "      <td>24.525772</td>\n",
       "      <td>16.571468</td>\n",
       "    </tr>\n",
       "  </tbody>\n",
       "</table>\n",
       "</div>"
      ],
      "text/plain": [
       "  City Types  Total Rides  Total Drivers  Total Fares  Average Fare per Ride  \\\n",
       "0      Rural          125           78.0      4327.93              34.623440   \n",
       "1   Suburban          625          490.0     19356.33              30.970128   \n",
       "2      Urban         1625         2405.0     39854.38              24.525772   \n",
       "\n",
       "   Average Fare per Driver  \n",
       "0                55.486282  \n",
       "1                39.502714  \n",
       "2                16.571468  "
      ]
     },
     "execution_count": 184,
     "metadata": {},
     "output_type": "execute_result"
    }
   ],
   "source": [
    " ## Now the summary data frame? Really\n",
    "\n",
    "pyber_summary_data_df=pd.DataFrame({\n",
    "    \"City Types\" : city_types,\n",
    "    \"Total Rides\" : total_rides_by_type,\n",
    "    \"Total Drivers\":total_drivers_by_type,\n",
    "    \"Total Fares\": total_fares,\n",
    "    \"Average Fare per Ride\":avg_fare_per_ride,\n",
    "    \"Average Fare per Driver\": avg_fare_per_driver})\n",
    " pyber_summary_data_df"
   ]
  },
  {
   "cell_type": "code",
   "execution_count": 185,
   "metadata": {},
   "outputs": [
    {
     "data": {
      "text/html": [
       "<div>\n",
       "<style scoped>\n",
       "    .dataframe tbody tr th:only-of-type {\n",
       "        vertical-align: middle;\n",
       "    }\n",
       "\n",
       "    .dataframe tbody tr th {\n",
       "        vertical-align: top;\n",
       "    }\n",
       "\n",
       "    .dataframe thead th {\n",
       "        text-align: right;\n",
       "    }\n",
       "</style>\n",
       "<table border=\"1\" class=\"dataframe\">\n",
       "  <thead>\n",
       "    <tr style=\"text-align: right;\">\n",
       "      <th></th>\n",
       "      <th>Total Rides</th>\n",
       "      <th>Total Drivers</th>\n",
       "      <th>Total Fares</th>\n",
       "      <th>Average Fare per Ride</th>\n",
       "      <th>Average Fare per Driver</th>\n",
       "    </tr>\n",
       "    <tr>\n",
       "      <th>City Types</th>\n",
       "      <th></th>\n",
       "      <th></th>\n",
       "      <th></th>\n",
       "      <th></th>\n",
       "      <th></th>\n",
       "    </tr>\n",
       "  </thead>\n",
       "  <tbody>\n",
       "    <tr>\n",
       "      <th>Rural</th>\n",
       "      <td>125</td>\n",
       "      <td>78.0</td>\n",
       "      <td>4327.93</td>\n",
       "      <td>34.623440</td>\n",
       "      <td>55.486282</td>\n",
       "    </tr>\n",
       "    <tr>\n",
       "      <th>Suburban</th>\n",
       "      <td>625</td>\n",
       "      <td>490.0</td>\n",
       "      <td>19356.33</td>\n",
       "      <td>30.970128</td>\n",
       "      <td>39.502714</td>\n",
       "    </tr>\n",
       "    <tr>\n",
       "      <th>Urban</th>\n",
       "      <td>1625</td>\n",
       "      <td>2405.0</td>\n",
       "      <td>39854.38</td>\n",
       "      <td>24.525772</td>\n",
       "      <td>16.571468</td>\n",
       "    </tr>\n",
       "  </tbody>\n",
       "</table>\n",
       "</div>"
      ],
      "text/plain": [
       "            Total Rides  Total Drivers  Total Fares  Average Fare per Ride  \\\n",
       "City Types                                                                   \n",
       "Rural               125           78.0      4327.93              34.623440   \n",
       "Suburban            625          490.0     19356.33              30.970128   \n",
       "Urban              1625         2405.0     39854.38              24.525772   \n",
       "\n",
       "            Average Fare per Driver  \n",
       "City Types                           \n",
       "Rural                     55.486282  \n",
       "Suburban                  39.502714  \n",
       "Urban                     16.571468  "
      ]
     },
     "execution_count": 185,
     "metadata": {},
     "output_type": "execute_result"
    }
   ],
   "source": [
    "## Change the index to City Types\n",
    "pyber_summary_data_df.set_index(\"City Types\", inplace = True)\n",
    "pyber_summary_data_df"
   ]
  },
  {
   "cell_type": "code",
   "execution_count": 186,
   "metadata": {},
   "outputs": [
    {
     "data": {
      "text/html": [
       "<div>\n",
       "<style scoped>\n",
       "    .dataframe tbody tr th:only-of-type {\n",
       "        vertical-align: middle;\n",
       "    }\n",
       "\n",
       "    .dataframe tbody tr th {\n",
       "        vertical-align: top;\n",
       "    }\n",
       "\n",
       "    .dataframe thead th {\n",
       "        text-align: right;\n",
       "    }\n",
       "</style>\n",
       "<table border=\"1\" class=\"dataframe\">\n",
       "  <thead>\n",
       "    <tr style=\"text-align: right;\">\n",
       "      <th></th>\n",
       "      <th>Total Rides</th>\n",
       "      <th>Total Drivers</th>\n",
       "      <th>Total Fares</th>\n",
       "      <th>Average Fare per Ride</th>\n",
       "      <th>Average Fare per Driver</th>\n",
       "    </tr>\n",
       "  </thead>\n",
       "  <tbody>\n",
       "    <tr>\n",
       "      <th>Rural</th>\n",
       "      <td>125</td>\n",
       "      <td>78</td>\n",
       "      <td>$4,327.93</td>\n",
       "      <td>$34.62</td>\n",
       "      <td>$55.49</td>\n",
       "    </tr>\n",
       "    <tr>\n",
       "      <th>Suburban</th>\n",
       "      <td>625</td>\n",
       "      <td>490</td>\n",
       "      <td>$19,356.33</td>\n",
       "      <td>$30.97</td>\n",
       "      <td>$39.50</td>\n",
       "    </tr>\n",
       "    <tr>\n",
       "      <th>Urban</th>\n",
       "      <td>1625</td>\n",
       "      <td>2405</td>\n",
       "      <td>$39,854.38</td>\n",
       "      <td>$24.53</td>\n",
       "      <td>$16.57</td>\n",
       "    </tr>\n",
       "  </tbody>\n",
       "</table>\n",
       "</div>"
      ],
      "text/plain": [
       "          Total Rides Total Drivers Total Fares Average Fare per Ride  \\\n",
       "Rural             125            78   $4,327.93                $34.62   \n",
       "Suburban          625           490  $19,356.33                $30.97   \n",
       "Urban            1625          2405  $39,854.38                $24.53   \n",
       "\n",
       "         Average Fare per Driver  \n",
       "Rural                     $55.49  \n",
       "Suburban                  $39.50  \n",
       "Urban                     $16.57  "
      ]
     },
     "execution_count": 186,
     "metadata": {},
     "output_type": "execute_result"
    }
   ],
   "source": [
    "## now the formatting\n",
    "\n",
    "#total_drivers_by_type= \n",
    "#total_drivers_by_type.map(\"{:.0f}\".format)\n",
    "pyber_summary_data_df[\"Total Drivers\"]= pyber_summary_data_df[\"Total Drivers\"].map(\"{:.0f}\".format)\n",
    "pyber_summary_data_df[\"Total Fares\"]= pyber_summary_data_df[\"Total Fares\"].map(\"${:,.2f}\".format)\n",
    "pyber_summary_data_df[\"Average Fare per Ride\"]= pyber_summary_data_df[\"Average Fare per Ride\"].map(\"${:,.2f}\".format)\n",
    "pyber_summary_data_df[\"Average Fare per Driver\"]= pyber_summary_data_df[\"Average Fare per Driver\"].map(\"${:,.2f}\".format)\n",
    "pyber_summary_data_df.index.name = None\n",
    "pyber_summary_data_df"
   ]
  },
  {
   "cell_type": "code",
   "execution_count": null,
   "metadata": {},
   "outputs": [],
   "source": [
    "#### Ok.  We have completed Part 1. Wow that was a doozy,."
   ]
  },
  {
   "cell_type": "code",
   "execution_count": null,
   "metadata": {},
   "outputs": [],
   "source": [
    "#### Now Part II Create a Muliple-Line Plot for the\n",
    "##   Sum of the Fares for Each City Type "
   ]
  },
  {
   "cell_type": "code",
   "execution_count": null,
   "metadata": {},
   "outputs": [],
   "source": []
  },
  {
   "cell_type": "code",
   "execution_count": null,
   "metadata": {},
   "outputs": [],
   "source": []
  },
  {
   "cell_type": "code",
   "execution_count": null,
   "metadata": {},
   "outputs": [],
   "source": [
    "### Now we can create our Bubble Chart!\n",
    "#  x_axis is number of rides per city\n",
    "#  y_axis is average fare for each city\n",
    "#  marker size = average number of drivers per city"
   ]
  },
  {
   "cell_type": "code",
   "execution_count": null,
   "metadata": {},
   "outputs": [],
   "source": [
    "## Start with Urbanio\n",
    "plt.scatter(urban_ride_count, urban_avg_fare # sets urban_ride_count, urban_avg_fare as x and y\n",
    "            , s=10*urban_driver_count # sets size to 10x average driver count\n",
    "            , c=\"coral\" # color to coral\n",
    "            , edgecolors =\"black\" # bubble edges to black\n",
    "            , linewidths = 1 # bubble edges to thin line width of 1\n",
    "            , alpha=0.8  # transparency to 80%\n",
    "            , label=\"Urban\" # legend label to Urban\n",
    "            )\n",
    "plt.title(\"PyBer Ride-Sharing Data (2019)\")\n",
    "plt.ylabel(\"Average Fare ($)\")\n",
    "plt.xlabel(\"Total Number of Riders\")\n",
    "plt.grid(True)\n",
    "plt.legend()"
   ]
  },
  {
   "cell_type": "code",
   "execution_count": null,
   "metadata": {},
   "outputs": [],
   "source": [
    "## Now suburban\n",
    "plt.scatter(suburban_ride_count, suburban_avg_fare # sets suburban_ride_count, suburban_avg_fare as x and y\n",
    "            , s=10*suburban_driver_count # sets size to 10x average driver count\n",
    "            , c=\"skyblue\" # color to coral\n",
    "            , edgecolors =\"black\" # bubble edges to black\n",
    "            , linewidths = 1 # bubble edges to thin line width of 1\n",
    "            , alpha=0.8  # transparency to 80%\n",
    "            , label=\"suburban\" # legend label to suburban\n",
    "            )\n",
    "plt.title(\"PyBer Ride-Sharing Data (2019)\")\n",
    "plt.ylabel(\"Average Fare ($)\")\n",
    "plt.xlabel(\"Total Number of Riders\")\n",
    "plt.grid(True)\n",
    "plt.legend()"
   ]
  },
  {
   "cell_type": "code",
   "execution_count": null,
   "metadata": {},
   "outputs": [],
   "source": [
    "## Now rural\n",
    "plt.scatter(rural_ride_count, rural_avg_fare # sets rural_ride_count, rural_avg_fare as x and y\n",
    "            , s=10*rural_driver_count # sets size to 10x average driver count\n",
    "            , c=\"skyblue\" # color to coral\n",
    "            , edgecolors =\"gold\" # bubble edges to black\n",
    "            , linewidths = 1 # bubble edges to thin line width of 1\n",
    "            , alpha=0.8  # transparency to 80%\n",
    "            , label=\"rural\" # legend label to rural\n",
    "            )\n",
    "plt.title(\"PyBer Ride-Sharing Data (2019)\")\n",
    "plt.ylabel(\"Average Fare ($)\")\n",
    "plt.xlabel(\"Total Number of Riders\")\n",
    "plt.grid(True)\n",
    "plt.legend()"
   ]
  },
  {
   "cell_type": "code",
   "execution_count": null,
   "metadata": {},
   "outputs": [],
   "source": [
    "## Now we combine the bubble charts!   Combine the three sets of code into one cell. Ok.\n",
    "plt.subplots(figsize=(10,6))  # sets a nice rectangular shape and size\n",
    "# Start with Urban\n",
    "plt.scatter(urban_ride_count, urban_avg_fare # sets urban_ride_count, urban_avg_fare as x and y\n",
    "            , s=10*urban_driver_count # sets size to 10x average driver count\n",
    "            , c=\"coral\" # color to coral\n",
    "            , edgecolors =\"black\" # bubble edges to black\n",
    "            , linewidths = 1 # bubble edges to thin line width of 1\n",
    "            , alpha=0.8  # transparency to 80%\n",
    "            , label=\"Urban\" # legend label to Urban\n",
    "            )\n",
    "\n",
    "# Now suburban\n",
    "plt.scatter(suburban_ride_count, suburban_avg_fare # sets suburban_ride_count, suburban_avg_fare as x and y\n",
    "            , s=10*suburban_driver_count # sets size to 10x average driver count\n",
    "            , c=\"skyblue\" # color to coral\n",
    "            , edgecolors =\"black\" # bubble edges to black\n",
    "            , linewidths = 1 # bubble edges to thin line width of 1\n",
    "            , alpha=0.8  # transparency to 80%\n",
    "            , label=\"Suburban\" # legend label to suburban\n",
    "            )\n",
    "\n",
    "# Now rural\n",
    "plt.scatter(rural_ride_count, rural_avg_fare # sets rural_ride_count, rural_avg_fare as x and y\n",
    "            , s=10*rural_driver_count # sets size to 10x average driver count\n",
    "            , c=\"skyblue\" # color to coral\n",
    "            , edgecolors =\"gold\" # bubble edges to black\n",
    "            , linewidths = 1 # bubble edges to thin line width of 1\n",
    "            , alpha=0.8  # transparency to 80%\n",
    "            , label=\"Rural\" # legend label to rural\n",
    "            )\n",
    "plt.title(\"PyBer Ride-Sharing Data (2019)\", fontsize=20) # chart title\n",
    "plt.ylabel(\"Average Fare ($)\", fontsize=12) # y axis label with fontsize\n",
    "plt.xlabel(\"Total Number of Rides(Per City)\", fontsize=12) # x_axes label with fontsize\n",
    "plt.grid(True) # show me the grid\n",
    "# Legend Section\n",
    "# sets lgnd as variable for plt.legend() with these four parameters.\n",
    "lgnd = plt.legend(fontsize=\"12\"\n",
    "             ,mode=\"Expanded\" # mode expands to fit area. \n",
    "             ,scatterpoints=1 # number of markers in the legend\n",
    "             , loc=\"best\"  # location of scatter plot based on available white space. nice!\n",
    "             , title=\"City Types\") # legend title\n",
    "lgnd.legendHandles[0]._sizes = [75] # sets legend handle to 0.75 for first item in array\n",
    "lgnd.legendHandles[1]._sizes = [75] # and so on for 2nd item.\n",
    "lgnd.legendHandles[2]._sizes = [75] # and so on.\n",
    "lgnd.get_title().set_fontsize(12) # legend title size\n",
    "# # Add a note.  first two numbers indicate position of note in relation to plot points. wow. very sweet.\n",
    "plt.text(42,35, \"Note: \\nCircle size correlates \\nwith driver count per city.\", fontsize=\"12\")\n",
    "# and save\n",
    "plt.savefig(\"analysis/Fig1.png\")\n",
    "# Now Show\n",
    "plt.show()"
   ]
  },
  {
   "cell_type": "code",
   "execution_count": null,
   "metadata": {},
   "outputs": [],
   "source": [
    "### Summary Stats - Number of rides by City type\n",
    "##  Pandas describe() function on a Series or DataFrame\n",
    "##  Pandas mean(), median(), mode() functions on Series\n",
    "##  NumPy mean() and median (). SciPy mode() on Series"
   ]
  },
  {
   "cell_type": "code",
   "execution_count": null,
   "metadata": {},
   "outputs": [],
   "source": [
    "##  Pandas describe() function on a DataFrame\n",
    "## Summary stats for cities.\n",
    "#urban_cities_df.describe()\n",
    "#suburban_cities_df.describe()\n",
    "#rural_cities_df.describe()"
   ]
  },
  {
   "cell_type": "code",
   "execution_count": null,
   "metadata": {},
   "outputs": [],
   "source": [
    "## Pandas describe() function on a Series\n",
    "## Summary stats for Rides.\n",
    "#urban_ride_count.describe()\n",
    "#suburban_ride_count.describe()\n",
    "rural_ride_count.describe()"
   ]
  },
  {
   "cell_type": "code",
   "execution_count": null,
   "metadata": {},
   "outputs": [],
   "source": [
    "##  Pandas mean(), median(), mode() functions on Series\n",
    "# Each Variable represents a statistic for each City Types category.\n",
    "\n",
    "# Ride Count Mean. generates a list of values for each variable. \n",
    "#round(urban_ride_count.mean(),2), round(suburban_ride_count.mean(),2), round(rural_ride_count.mean(),2)\n",
    "\n",
    "# Ride Count Median. \n",
    "#round(urban_ride_count.median(),2), round(suburban_ride_count.median(),2), round(rural_ride_count.median(),2)\n",
    "\n",
    "# Ride Count Mode \n",
    "#round(urban_ride_count.mode(),2), round(suburban_ride_count.mode(),2), round(rural_ride_count.mode(),2)\n",
    "\n",
    "# Run each one and get a visual.Each category has a mode, \n",
    "# but Urbans two modes are larger than the rural and Sub, so they represent modes for the set.\n",
    "#round(urban_ride_count.mode(),2)\n",
    "#round(suburban_ride_count.mode(),2)\n",
    "#round(rural_ride_count.mode(),2)"
   ]
  },
  {
   "cell_type": "code",
   "execution_count": null,
   "metadata": {},
   "outputs": [],
   "source": [
    "###  NumPy mean() and median (). SciPy mode() on Series\n",
    "##  Import new dependencies.  NumPy and SciPy\n",
    "import numpy as np\n",
    "import scipy.stats as sts"
   ]
  },
  {
   "cell_type": "code",
   "execution_count": null,
   "metadata": {},
   "outputs": [],
   "source": [
    "## Calcualte measures of central tendency for ride counts.\n",
    "mean_urban_ride_count = np.mean(urban_ride_count)\n",
    "print(f\"The mean for the ride counts for urban trips is {mean_urban_ride_count:.2f}.\")\n",
    "\n",
    "median_urban_ride_count = np.median(urban_ride_count)\n",
    "print(f\"The median for the ride counts for urban trips is {median_urban_ride_count}.\")\n",
    "\n",
    "## using SciPy mode() function\n",
    "mode_urban_ride_count = sts.mode(urban_ride_count)\n",
    "print(f\"The mode for the ride counts for urban trips is {mode_urban_ride_count}.\")\n",
    "\n",
    "## using SciPy mode() function\n",
    "mode_suburban_ride_count = sts.mode(suburban_ride_count)\n",
    "print(f\"The mode for the ride counts for suburban trips is {mode_suburban_ride_count}.\")\n",
    "\n",
    "## using SciPy mode() function\n",
    "mode_rural_ride_count = sts.mode(rural_ride_count)\n",
    "print(f\"The mode for the ride counts for rural trips is {mode_rural_ride_count}.\")\n"
   ]
  },
  {
   "cell_type": "code",
   "execution_count": null,
   "metadata": {},
   "outputs": [],
   "source": [
    "## Get summary statistics for average fares for city types\n",
    "\n",
    "# Urban Fare using Numpy and SciPy\n",
    "urban_fares = urban_cities_df[\"fare\"]\n",
    "urban_fares.head()"
   ]
  },
  {
   "cell_type": "code",
   "execution_count": null,
   "metadata": {},
   "outputs": [],
   "source": [
    "# Measures of central tendency for average fare. \n",
    "# NumPy and SciPy methods of calculating summary statistics\n",
    "mean_urban_fares = np.mean(urban_fares)\n",
    "print(f\"The mean fare price for urban trips is ${mean_urban_fares:.2f}.\")\n",
    "\n",
    "median_urban_fares = np.median(urban_fares)\n",
    "print(f\"The median fare price for urban trips is ${median_urban_fares:.2f}.\")\n",
    "\n",
    "mode_urban_fares = sts.mode(urban_fares)\n",
    "print(f\"The mode fare price for urban trips is {mode_urban_fares}.\")"
   ]
  },
  {
   "cell_type": "code",
   "execution_count": null,
   "metadata": {},
   "outputs": [],
   "source": [
    "##  Numpy Mean and Median. SciPy Mode for Suburban\n",
    "\n",
    "suburban_fares = suburban_cities_df[\"fare\"]\n",
    "\n",
    "mean_suburban_fares = np.mean(suburban_fares)\n",
    "print(f\"The mean fare price for suburban trips is ${mean_suburban_fares:.2f}.\")\n",
    "\n",
    "median_suburban_fares = np.median(suburban_fares)\n",
    "print(f\"The median fare price for suburban trips is ${median_suburban_fares:.2f}.\")\n",
    "\n",
    "mode_suburban_fares = sts.mode(suburban_fares)\n",
    "print(f\"The mode fare price for suburban trips is {mode_suburban_fares}.\")"
   ]
  },
  {
   "cell_type": "code",
   "execution_count": null,
   "metadata": {},
   "outputs": [],
   "source": [
    "##  Numpy Mean and Median. SciPy Mode for rural\n",
    "\n",
    "rural_fares = rural_cities_df[\"fare\"]\n",
    "\n",
    "mean_rural_fares = np.mean(rural_fares)\n",
    "print(f\"The mean fare price for rural trips is ${mean_rural_fares:.2f}.\")\n",
    "\n",
    "median_rural_fares = np.median(rural_fares)\n",
    "print(f\"The median fare price for rural trips is ${median_rural_fares:.2f}.\")\n",
    "\n",
    "mode_rural_fares = sts.mode(rural_fares)\n",
    "print(f\"The mode fare price for rural trips is {mode_rural_fares}.\")"
   ]
  },
  {
   "cell_type": "code",
   "execution_count": null,
   "metadata": {},
   "outputs": [],
   "source": [
    "### Skill Drill 5.4.3: Summary Stats for Number of drivers by City Types using NumBy and SciPy"
   ]
  },
  {
   "cell_type": "code",
   "execution_count": null,
   "metadata": {},
   "outputs": [],
   "source": [
    "##  Urban: summary stats using Numby and SciPy\n",
    "\n",
    "urban_drivers = urban_cities_df[\"driver_count\"]\n",
    "#urban_drivers.head()\n",
    "\n",
    "mean_urban_drivers = np.mean(urban_drivers)\n",
    "print(f\"The mean driver count for urban cities is {mean_urban_drivers:.0f}.\")\n",
    "\n",
    "median_urban_drivers = np.median(urban_drivers)\n",
    "print(f\"The median driver count for urban cities is {median_urban_drivers:.0f}.\")\n",
    "\n",
    "mode_urban_drivers = sts.mode(urban_drivers)\n",
    "print(f\"The mode driver count for urban cities is {mode_urban_drivers}.\")"
   ]
  },
  {
   "cell_type": "code",
   "execution_count": null,
   "metadata": {},
   "outputs": [],
   "source": [
    "##  Suburban summary stats\n",
    "\n",
    "suburban_drivers = suburban_cities_df[\"driver_count\"]\n",
    "\n",
    "\n",
    "mean_suburban_drivers = np.mean(suburban_drivers)\n",
    "print(f\"The mean driver count for suburban cities is {mean_suburban_drivers:.0f}.\")\n",
    "\n",
    "median_suburban_drivers = np.median(suburban_drivers)\n",
    "print(f\"The median driver count for suburban cities is {median_suburban_drivers:.0f}.\")\n",
    "\n",
    "mode_suburban_drivers = sts.mode(suburban_drivers)\n",
    "print(f\"The mode driver count for suburban cities is {mode_suburban_drivers}.\")"
   ]
  },
  {
   "cell_type": "code",
   "execution_count": null,
   "metadata": {},
   "outputs": [],
   "source": [
    "##  Rural summary stats\n",
    "\n",
    "rural_drivers = rural_cities_df[\"driver_count\"]\n",
    "\n",
    "mean_rural_drivers = np.mean(rural_drivers)\n",
    "print(f\"The mean driver count for rural cities is {mean_rural_drivers:.0f}.\")\n",
    "\n",
    "median_rural_drivers = np.median(rural_drivers)\n",
    "print(f\"The median driver count for rural cities is {median_rural_drivers:.0f}.\")\n",
    "\n",
    "mode_rural_drivers = sts.mode(rural_drivers)\n",
    "print(f\"The mode driver count for rural cities is {mode_rural_drivers}.\")"
   ]
  },
  {
   "cell_type": "code",
   "execution_count": null,
   "metadata": {},
   "outputs": [],
   "source": [
    "#### Box and Whisker Plots for Ride Count Data\n",
    "## requires usage of the ax.boxplot() funtion which takes an array insdie parenthesis.\n",
    "\n",
    "## Urban Box and Whisper for urban ride count\n",
    "x_labels = [\"Urban\"]   # labels have to be set first in ax.plot() functions\n",
    "fig, ax = plt.subplots()  # declares ax function\n",
    "ax.boxplot(urban_ride_count, labels=x_labels) # sets the y axis, and labels property\n",
    "# Add the title, y-axis label and grid.\n",
    "ax.set_title('Ride Count Data (2019)')  # Title \n",
    "ax.set_ylabel('Number of Rides') # ylabel\n",
    "ax.set_yticks(np.arange(10, 41, step=2.0))  # y tick using np.arange. from 10-41 with steps of two\n",
    "ax.grid()  # please give us a grid\n",
    "plt.show()"
   ]
  },
  {
   "cell_type": "code",
   "execution_count": null,
   "metadata": {},
   "outputs": [],
   "source": [
    "## Urban Summary Stats for urban ride count\n",
    "urban_ride_count.describe()"
   ]
  },
  {
   "cell_type": "code",
   "execution_count": null,
   "metadata": {},
   "outputs": [],
   "source": [
    "## Now Suburban Box and Whisper\n",
    "x_labels = [\"Suburban\"]   # labels have to be set first in ax.plot() functions\n",
    "fig, ax = plt.subplots()  # declares ax function\n",
    "ax.boxplot(suburban_ride_count, labels=x_labels) # sets the y axis, and labels property\n",
    "# Add the title, y-axis label and grid.\n",
    "ax.set_title('Ride Count Data (2019)')  # Title \n",
    "ax.set_ylabel('Number of Rides') # ylabel\n",
    "ax.set_yticks(np.arange(10, 41, step=2.0))  # y tick using np.arange. from 10-41 with steps of two\n",
    "ax.grid()  # grid\n",
    "plt.show()"
   ]
  },
  {
   "cell_type": "code",
   "execution_count": null,
   "metadata": {},
   "outputs": [],
   "source": [
    "## Suburban Summary Stats for Suburban ride count\n",
    "suburban_ride_count.describe()"
   ]
  },
  {
   "cell_type": "code",
   "execution_count": null,
   "metadata": {},
   "outputs": [],
   "source": [
    "## Now Rural Box and Whisper\n",
    "x_labels = [\"Rural\"]   # labels have to be set first in ax.plot() functions\n",
    "fig, ax = plt.subplots()  # declares ax function\n",
    "ax.boxplot(rural_ride_count, labels=x_labels) # sets the y axis, and labels property\n",
    "# Add the title, y-axis label and grid.\n",
    "ax.set_title('Ride Count Data (2019)')  # Title \n",
    "ax.set_ylabel('Number of Rides') # ylabel\n",
    "ax.set_yticks(np.arange(10, 41, step=2.0))  # y tick using np.arange. from 10-41 with steps of two\n",
    "ax.grid()  # grid\n",
    "plt.show()"
   ]
  },
  {
   "cell_type": "code",
   "execution_count": null,
   "metadata": {},
   "outputs": [],
   "source": [
    "## Rurual summary Stats for ride count\n",
    "rural_ride_count.describe()"
   ]
  },
  {
   "cell_type": "code",
   "execution_count": null,
   "metadata": {},
   "outputs": [],
   "source": [
    "### Now we add all cites to one box and whisper plot\n",
    "\n",
    "x_labels = [\"Urban\", \"Suburban\",\"Rural\"]  #always labels first as variable to be later used in the boxplot\n",
    "ride_count_data = [urban_ride_count, suburban_ride_count, rural_ride_count] # create series\n",
    "fig, ax = plt.subplots(figsize=(10, 6))  # declare ax method with a nice rectangular size\\shape\n",
    "ax.set_title('Ride Count Data (2019)',fontsize=20) # set title wiht font size\n",
    "ax.set_ylabel('Number of Rides',fontsize=14) # set y label with fontsize\n",
    "ax.set_xlabel(\"City Types\",fontsize=14) # set x label with fontsize\n",
    "ax.boxplot(ride_count_data, labels=x_labels)  ## specify a boxplot with labels.\n",
    "ax.set_yticks(np.arange(0, 45, step=3.0))  # set y ticks using NumPy arange()\n",
    "ax.grid() # grid please \n",
    "\n",
    "# Save the plot\n",
    "plt.savefig(\"analysis/Fig2.png\")\n",
    "plt.show()  # very nice - three box and whispers side to side"
   ]
  },
  {
   "cell_type": "code",
   "execution_count": null,
   "metadata": {},
   "outputs": [],
   "source": [
    "## ID the Outlier. which city has the highest driver count (urban = 39).\n",
    "urban_city_outlier = urban_ride_count[urban_ride_count==39].index[0] ## index seems unnecessary\n",
    "print(f\"{urban_city_outlier} has the largest rider count.\")"
   ]
  },
  {
   "cell_type": "code",
   "execution_count": null,
   "metadata": {},
   "outputs": [],
   "source": [
    "### Now Box and Whisker for Ride Fare Data\n",
    "\n",
    "## Urban\n",
    "x_labels = [\"Urban\"]  # our labels variable\n",
    "fig, ax = plt.subplots()  # object oriented method for plot\n",
    "ax.boxplot(urban_fares, labels=x_labels)  # call urban_fares as y data\n",
    "# Add the title, y-axis label and grid.\n",
    "ax.set_title('Ride Fare Data (2019)')   # title\n",
    "ax.set_ylabel('Fare($USD)') # y label\n",
    "ax.set_yticks(np.arange(0, 51, step=5.0))  # y ticks and steps\n",
    "ax.grid()\n",
    "plt.show()\n",
    "print(\"Summary Statistics\")\n",
    "urban_fares.describe()"
   ]
  },
  {
   "cell_type": "code",
   "execution_count": null,
   "metadata": {},
   "outputs": [],
   "source": [
    "### SkillDrill 5.4.4 Box and Whisper plots for suburban_fares and rural_fares\n",
    "\n",
    "## first Suburban\n",
    "\n",
    "x_labels = [\"Suburban\"]  # our labels variable\n",
    "fig, ax = plt.subplots()  # object oriented method for plot\n",
    "ax.boxplot(suburban_fares, labels=x_labels)  # call suburban_fares as y data\n",
    "# Add the title, y-axis label and grid.\n",
    "ax.set_title('Ride Fare Data (2019)')   # title\n",
    "ax.set_ylabel('Fare($USD)') # y label\n",
    "ax.set_yticks(np.arange(0, 51, step=5.0))  # y ticks and steps\n",
    "ax.grid()\n",
    "plt.show()\n",
    "print(\"Summary Statistics\")\n",
    "suburban_fares.describe()"
   ]
  },
  {
   "cell_type": "code",
   "execution_count": null,
   "metadata": {},
   "outputs": [],
   "source": [
    "## and now rural \n",
    "\n",
    "x_labels = [\"Rural\"]  # our labels variable\n",
    "fig, ax = plt.subplots()  # object oriented method for plot\n",
    "ax.boxplot(rural_fares, labels=x_labels)  # call suburban_fares as y data\n",
    "# Add the title, y-axis label and grid.\n",
    "ax.set_title('Ride Fare Data (2019)')   # title\n",
    "ax.set_ylabel('Fare($USD)') # y label\n",
    "ax.set_yticks(np.arange(0, 51, step=5.0))  # y ticks and steps\n",
    "ax.grid()\n",
    "plt.show()\n",
    "print(\"Summary Statistics\")\n",
    "rural_fares.describe()"
   ]
  },
  {
   "cell_type": "code",
   "execution_count": null,
   "metadata": {},
   "outputs": [],
   "source": [
    "### Skill Drill 5.4.4  Combine three Box and Whisper Charts for Ride Fare Data\n",
    "\n",
    "x_labels = [\"Urban\", \"Suburban\",\"Rural\"]  #always labels first as variable to be later used in the boxplot\n",
    "ride_fare_data = [urban_fares, suburban_fares, rural_fares] # create series\n",
    "fig, ax = plt.subplots(figsize=(10, 6))  # declare ax method with a nice rectangular size\\shape\n",
    "ax.set_title('Ride Fare Data (2019)',fontsize=20) # set title wiht font size\n",
    "ax.set_ylabel('Fares ($USD)',fontsize=14) # set y label with fontsize\n",
    "ax.set_xlabel(\"City Types\",fontsize=14) # set x label with fontsize\n",
    "ax.boxplot(ride_fare_data, labels=x_labels)  ## specify a boxplot with labels. Use ride_fare_data\n",
    "ax.set_yticks(np.arange(0, 45, step=3.0))  # set y ticks using NumPy arange()\n",
    "ax.grid() # grid please \n",
    "\n",
    "# Save the plot\n",
    "plt.savefig(\"analysis/Fig3.png\")\n",
    "plt.show()  # will it work?"
   ]
  },
  {
   "cell_type": "code",
   "execution_count": null,
   "metadata": {},
   "outputs": [],
   "source": [
    "### Now some plots on driver count data. Using urban_drivers series genearated earlier\n",
    "\n",
    "## First Urban\n",
    "x_labels = [\"Urban\"]  # x labels variable\n",
    "fig, ax = plt.subplots() # object oriented method\n",
    "ax.boxplot(urban_drivers,labels=x_labels) # call boxplot using urban_drivers series.\n",
    "# Add the title, y-axis label and grid.\n",
    "ax.set_title('Driver Count Data (2019)')  # title\n",
    "ax.set_ylabel('Number of Drivers)') # Y label\n",
    "ax.set_yticks(np.arange(0, 90, step=5.0)) # y ticks and steps\n",
    "ax.grid() # grid please\n",
    "plt.show()\n",
    "print(\"Summary Statistics\")\n",
    "urban_drivers.describe()  # summary stats always good to disply with Box and Whisper"
   ]
  },
  {
   "cell_type": "code",
   "execution_count": null,
   "metadata": {},
   "outputs": [],
   "source": [
    "### Skill Drill 5.4.4 Box and Whisper plots for Driver Count Data for Subsuburban and Rural\n",
    "\n",
    "## First Suburban\n",
    "x_labels = [\"Suburban\"]  # x labels variable\n",
    "fig, ax = plt.subplots() # object oriented method\n",
    "ax.boxplot(suburban_drivers,labels=x_labels) # call boxplot using suburban_drivers series.\n",
    "# Add the title, y-axis label and grid.\n",
    "ax.set_title('Driver Count Data (2019)')  # title\n",
    "ax.set_ylabel('Number of Drivers)') # Y label\n",
    "ax.set_yticks(np.arange(0, 90, step=5.0)) # y ticks and steps\n",
    "ax.grid() # grid please\n",
    "plt.show()\n",
    "print(\"Summary Statistics\")\n",
    "suburban_drivers.describe()  # summary stats always good to disply with Box and Whisper"
   ]
  },
  {
   "cell_type": "code",
   "execution_count": null,
   "metadata": {},
   "outputs": [],
   "source": [
    "## Now Rural Driver Count Box and Whisper\n",
    "\n",
    "x_labels = [\"Rural\"]  # x labels variable\n",
    "fig, ax = plt.subplots() # object oriented method\n",
    "ax.boxplot(rural_drivers,labels=x_labels) # call boxplot using rural_drivers series.\n",
    "# Add the title, y-axis label and grid.\n",
    "ax.set_title('Driver Count Data (2019)')  # title\n",
    "ax.set_ylabel('Number of Drivers)') # Y label\n",
    "ax.set_yticks(np.arange(0, 90, step=5.0)) # y ticks and steps\n",
    "ax.grid() # grid please\n",
    "plt.show()\n",
    "print(\"Summary Statistics\")\n",
    "rural_drivers.describe()  # summary stats always good to disply with Box and Whisper"
   ]
  },
  {
   "cell_type": "code",
   "execution_count": null,
   "metadata": {},
   "outputs": [],
   "source": [
    "### Skill Drill. Create combined box and whispers for Driver Count data.\n",
    "\n",
    "\n",
    "x_labels = [\"Urban\", \"Suburban\",\"Rural\"]  # label variable \n",
    "driver_count_data = [urban_drivers, suburban_drivers, rural_drivers] # create series of three driver series.\n",
    "fig, ax = plt.subplots(figsize=(10, 6))  # declare ax method with a nice rectangular size\\shape\n",
    "ax.set_title('Driver Count Data (2019)',fontsize=20) # set title with font size\n",
    "ax.set_ylabel('Number of Drivers',fontsize=14) # set y label with fontsize\n",
    "ax.set_xlabel(\"City Types\",fontsize=14) # set x label with fontsize\n",
    "ax.boxplot(driver_count_data, labels=x_labels)  ## specify a boxplot with labels. Use driver_count_data\n",
    "ax.set_yticks(np.arange(0, 76, step=5.0))  # set y ticks using NumPy arange()\n",
    "ax.grid() # grid please \n",
    "\n",
    "# Save the plot\n",
    "plt.savefig(\"analysis/Fig4.png\")\n",
    "plt.show()  "
   ]
  },
  {
   "cell_type": "code",
   "execution_count": null,
   "metadata": {},
   "outputs": [],
   "source": [
    "## commit our work. good work. getting familiar with Python and plotting for sure. "
   ]
  },
  {
   "cell_type": "code",
   "execution_count": null,
   "metadata": {},
   "outputs": [],
   "source": [
    "#### Pie Chart Percentage of Fares for Each City Type\n",
    "    ## Total Fares for each city type\n",
    "## Total for all Fares for all city types\n",
    "## Calc Percentage of the toal fares for each city type"
   ]
  },
  {
   "cell_type": "code",
   "execution_count": null,
   "metadata": {},
   "outputs": [],
   "source": [
    "## Total Fares for each city type\n",
    "# Urban Cities: gen a Series from pyber DF, group by type. stat is sum of fare\n",
    "sum_fares_by_type = pyber_data_df.groupby([\"type\"]).sum()[\"fare\"]\n",
    "sum_fares_by_type"
   ]
  },
  {
   "cell_type": "code",
   "execution_count": null,
   "metadata": {},
   "outputs": [],
   "source": [
    "## Sum of all Fares\n",
    "total_fares=pyber_data_df[\"fare\"].sum()\n",
    "total_fares"
   ]
  },
  {
   "cell_type": "code",
   "execution_count": null,
   "metadata": {},
   "outputs": [],
   "source": [
    "## Calc %\n",
    "type_percents = 100 * sum_fares_by_type  / total_fares \n",
    "type_percents"
   ]
  },
  {
   "cell_type": "code",
   "execution_count": null,
   "metadata": {},
   "outputs": [],
   "source": [
    "## do it all at once in one line by joining commands\n",
    "type_percents = 100 * pyber_data_df.groupby([\"type\"]).sum()[\"fare\"] / pyber_data_df[\"fare\"].sum()\n",
    "type_percents"
   ]
  },
  {
   "cell_type": "code",
   "execution_count": null,
   "metadata": {},
   "outputs": [],
   "source": [
    "### Now we pie up the Percentage Fares by City Type\n",
    "\n",
    "## Load matplotlib so we can use rcParams() to control font sizes\n",
    "#      rcParams() accesses the run and configure settings for matplolib\n",
    "import matplotlib as mpl  # call the matplotlib library\n",
    "\n",
    "## Set the chart size\n",
    "plt.subplots(figsize=(10,6))\n",
    "\n",
    "## Build chart\n",
    "plt.pie(type_percents, labels=[\"Rural\", \"Suburban\", \"Urban\"]  # sets type_percents as Y. labels legend\n",
    "       , colors=[\"gold\",\"lightskyblue\",\"lightcoral\"]\n",
    "       , explode=[0,0,0.1] #explodes third wedge by ten percent\n",
    "       , autopct= \"%1.1f%%\" # format as percentage \n",
    "       , shadow=True # shadow the wedges.\n",
    "       , startangle = 150 # sets top point\n",
    "       )\n",
    "plt.title(\"% of Total Fares by City Type\")\n",
    "\n",
    "mpl.rcParams['font.size']=14 ## use rcParams() to change default font size\n",
    "\n",
    "plt.savefig(\"analysis/Fig5\") # save chart to drive\n",
    "\n",
    "plt.show()"
   ]
  },
  {
   "cell_type": "code",
   "execution_count": null,
   "metadata": {},
   "outputs": [],
   "source": [
    "####  Pie Chart: Percentage of Total Rides by City Type\n",
    "   \n",
    " # Total number of rides for each city type\n",
    " # Total for all city types\n",
    " # Percentage of total rides for each city type.\n",
    "\n",
    "pyber_data_df # quick data preview."
   ]
  },
  {
   "cell_type": "code",
   "execution_count": null,
   "metadata": {},
   "outputs": [],
   "source": [
    "##  Total number of rides for each city type\n",
    "sum_rides_by_type = pyber_data_df.groupby([\"type\"]).count()[\"ride_id\"]\n",
    "sum_rides_by_type"
   ]
  },
  {
   "cell_type": "code",
   "execution_count": null,
   "metadata": {},
   "outputs": [],
   "source": [
    "## Sum of all rides\n",
    "total_rides=pyber_data_df[\"ride_id\"].count()\n",
    "total_rides"
   ]
  },
  {
   "cell_type": "code",
   "execution_count": null,
   "metadata": {},
   "outputs": [],
   "source": [
    "## Calc %\n",
    "ride_percents = 100 * pyber_data_df.groupby([\"type\"]).count()[\"ride_id\"] / pyber_data_df[\"ride_id\"].count()\n",
    "ride_percents"
   ]
  },
  {
   "cell_type": "code",
   "execution_count": null,
   "metadata": {},
   "outputs": [],
   "source": [
    "## Build pie  chart for Percentage of Total Rides by City Type\n",
    "\n",
    "## no need to reimport the matpotlib\n",
    "\n",
    "## Set the chart size\n",
    "plt.subplots(figsize=(10,6))\n",
    "\n",
    "## Build the pie\n",
    "plt.pie(ride_percents, labels=[\"Rural\", \"Suburban\", \"Urban\"]  # sets ride_percents as Y. labels legend\n",
    "       , colors=[\"gold\",\"lightskyblue\",\"lightcoral\"]\n",
    "       , explode=[0,0,0.1] #explodes third wedge by ten percent\n",
    "       , autopct= \"%1.1f%%\" # format as percentage \n",
    "       , shadow=True # shadow the wedges.\n",
    "       , startangle = 150 # sets top point\n",
    "       )\n",
    "plt.title(\"Percentage of Total Rides by City Type\")\n",
    "\n",
    "mpl.rcParams['font.size']=14 ## use rcParams() to change default font size\n",
    "\n",
    "plt.savefig(\"analysis/Fig6\") # save chart to drive\n",
    "\n",
    "plt.show()"
   ]
  },
  {
   "cell_type": "code",
   "execution_count": null,
   "metadata": {},
   "outputs": [],
   "source": [
    "####  Pie Chart: Percentage of Total Drivers by City Type\n",
    "   \n",
    " # Total number of drivers for each city type\n",
    " # Total for all drivers for all\n",
    " # Percentage of total drivers for each city type.\n",
    "\n",
    "pyber_data_df # quick data preview."
   ]
  },
  {
   "cell_type": "code",
   "execution_count": null,
   "metadata": {},
   "outputs": [],
   "source": [
    "# Total number of drivers for each city type\n",
    "sum_drivers_by_type = pyber_data_df.groupby([\"type\"]).sum()[\"driver_count\"]\n",
    "sum_drivers_by_type"
   ]
  },
  {
   "cell_type": "code",
   "execution_count": null,
   "metadata": {},
   "outputs": [],
   "source": [
    "## Sum of all drivers\n",
    "total_drivers=pyber_data_df[\"driver_count\"].sum()\n",
    "total_drivers"
   ]
  },
  {
   "cell_type": "code",
   "execution_count": null,
   "metadata": {},
   "outputs": [],
   "source": [
    "# Percentage of total drivers for each city type\n",
    "driver_percents = 100 * pyber_data_df.groupby([\"type\"]).sum()[\"driver_count\"] / pyber_data_df[\"driver_count\"].sum()\n",
    "driver_percents"
   ]
  },
  {
   "cell_type": "code",
   "execution_count": null,
   "metadata": {},
   "outputs": [],
   "source": [
    "## Build pie chart for Percentage of Drivers by City Type\n",
    "\n",
    "## no need to reimport the matpotlib\n",
    "\n",
    "## Set the chart size\n",
    "plt.subplots(figsize=(10,6))\n",
    "\n",
    "## Build the pie\n",
    "plt.pie(driver_percents, labels=[\"Rural\", \"Suburban\", \"Urban\"]  # sets driver_percents as Y. labels legend\n",
    "       , colors=[\"gold\",\"lightskyblue\",\"lightcoral\"]\n",
    "       , explode=[0,0,0.1] #explodes third wedge by ten percent\n",
    "       , autopct= \"%1.1f%%\" # format as percentage \n",
    "       , shadow=True # shadow the wedges.\n",
    "       , startangle = 150 # sets top point\n",
    "       )\n",
    "plt.title(\"Percentage of Total Drivers by City Type\")\n",
    "\n",
    "mpl.rcParams['font.size']=14 ## use rcParams() to change default font size\n",
    "\n",
    "plt.savefig(\"analysis/Fig7\") # save chart to drive\n",
    "\n",
    "plt.show()"
   ]
  },
  {
   "cell_type": "code",
   "execution_count": null,
   "metadata": {},
   "outputs": [],
   "source": [
    "## final commit for this Module.  that was fun. "
   ]
  }
 ],
 "metadata": {
  "kernelspec": {
   "display_name": "PythonData",
   "language": "python",
   "name": "pythondata"
  },
  "language_info": {
   "codemirror_mode": {
    "name": "ipython",
    "version": 3
   },
   "file_extension": ".py",
   "mimetype": "text/x-python",
   "name": "python",
   "nbconvert_exporter": "python",
   "pygments_lexer": "ipython3",
   "version": "3.6.9"
  }
 },
 "nbformat": 4,
 "nbformat_minor": 2
}
